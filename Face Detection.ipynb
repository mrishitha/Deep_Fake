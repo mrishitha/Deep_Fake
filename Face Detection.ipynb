{
 "cells": [
  {
   "cell_type": "markdown",
   "id": "0fa3d1c9",
   "metadata": {},
   "source": [
    "# Preprocessing"
   ]
  },
  {
   "cell_type": "code",
   "execution_count": 1,
   "id": "718bf1af-c82f-4168-aee3-13dcc3db3657",
   "metadata": {},
   "outputs": [
    {
     "name": "stdout",
     "output_type": "stream",
     "text": [
      "Found GPU: PhysicalDevice(name='/physical_device:GPU:0', device_type='GPU')\n"
     ]
    }
   ],
   "source": [
    "import tensorflow as tf\n",
    "gpus = tf.config.experimental.list_physical_devices('GPU')\n",
    "if gpus:\n",
    "    for gpu in gpus:\n",
    "        print(\"Found GPU:\", gpu)\n",
    "else:\n",
    "    print(\"No GPU detected\")\n"
   ]
  },
  {
   "cell_type": "code",
   "execution_count": 2,
   "id": "43bcec68-6a54-48d4-b245-65b0b4b27101",
   "metadata": {},
   "outputs": [
    {
     "name": "stdout",
     "output_type": "stream",
     "text": [
      "1 Physical GPUs, 1 Logical GPUs\n"
     ]
    }
   ],
   "source": [
    "gpus = tf.config.experimental.list_physical_devices('GPU')\n",
    "if gpus:\n",
    "    try:\n",
    "        for gpu in gpus:\n",
    "            tf.config.experimental.set_memory_growth(gpu, True)\n",
    "        logical_gpus = tf.config.experimental.list_logical_devices('GPU')\n",
    "        print(len(gpus), \"Physical GPUs,\", len(logical_gpus), \"Logical GPUs\")\n",
    "    except RuntimeError as e:\n",
    "        print(e)\n"
   ]
  },
  {
   "cell_type": "code",
   "execution_count": 3,
   "id": "403d61b5-dddf-4d67-a766-25b8f676310e",
   "metadata": {},
   "outputs": [
    {
     "name": "stdout",
     "output_type": "stream",
     "text": [
      "Requirement already satisfied: opencv-python in c:\\users\\khors\\miniconda3\\envs\\test\\lib\\site-packages (4.9.0.80)\n",
      "Requirement already satisfied: numpy>=1.17.0 in c:\\users\\khors\\miniconda3\\envs\\test\\lib\\site-packages (from opencv-python) (1.26.4)\n",
      "Note: you may need to restart the kernel to use updated packages.\n"
     ]
    }
   ],
   "source": [
    "pip install opencv-python"
   ]
  },
  {
   "cell_type": "code",
   "execution_count": 4,
   "id": "84fd194a",
   "metadata": {},
   "outputs": [],
   "source": [
    "import cv2\n",
    "import os"
   ]
  },
  {
   "cell_type": "markdown",
   "id": "ce8d8a3f",
   "metadata": {},
   "source": [
    "### Setting dataset and output directory"
   ]
  },
  {
   "cell_type": "code",
   "execution_count": 5,
   "id": "7f320d8e",
   "metadata": {},
   "outputs": [],
   "source": [
    "base_dir = \"C:\\/Users\\khors\\/Downloads\\/DeepFake Face Recognition\\/Datasets\\/dfdc_train_part_00\"\n",
    "\n",
    "video_dataset = os.path.join(base_dir, \"dfdc_train_part_0\")"
   ]
  },
  {
   "cell_type": "markdown",
   "id": "197a390c-df42-4c0f-bdf8-cf5338787d98",
   "metadata": {},
   "source": [
    "### Processing Metadata for Organizing"
   ]
  },
  {
   "cell_type": "code",
   "execution_count": 6,
   "id": "86b7dab9-3356-45e9-a216-2ac00c3d2a20",
   "metadata": {},
   "outputs": [],
   "source": [
    "import json\n",
    "metadata_filepath = os.path.join(video_dataset , \"metadata.json\")\n",
    "with open(metadata_filepath, 'r') as file:\n",
    "    metadata = json.load(file)"
   ]
  },
  {
   "cell_type": "code",
   "execution_count": 19,
   "id": "4d60159d-8e39-43b0-8729-19a505c7e4fb",
   "metadata": {},
   "outputs": [],
   "source": [
    "real_dir = os.path.join(base_dir, 'real')\n",
    "fake_dir = os.path.join(base_dir, 'fake')\n",
    "\n",
    "real_frames = os.path.join(real_dir, \"real_frames\")\n",
    "fake_frames = os.path.join(fake_dir, \"fake_frames\")\n",
    "\n",
    "real_faces = os.path.join(real_dir, \"real_faces\")\n",
    "fake_faces = os.path.join(fake_dir, \"fake_faces\")\n",
    "\n",
    "os.makedirs(real_dir, exist_ok=True)\n",
    "os.makedirs(fake_dir, exist_ok=True)\n",
    "\n",
    "os.makedirs(real_frames, exist_ok=True)\n",
    "os.makedirs(fake_frames, exist_ok=True)\n",
    "\n",
    "os.makedirs(real_faces, exist_ok=True)\n",
    "os.makedirs(fake_faces, exist_ok=True)"
   ]
  },
  {
   "cell_type": "code",
   "execution_count": 20,
   "id": "5fbc8c54-7b3e-42ef-bfae-5f05a943885b",
   "metadata": {},
   "outputs": [],
   "source": [
    "real_videos = []\n",
    "fake_videos = []\n",
    "for videoInfo in metadata:\n",
    "    if metadata[videoInfo]['label'] == \"REAL\":\n",
    "        real_videos.append(videoInfo)\n",
    "    else: \n",
    "        fake_videos.append(videoInfo)"
   ]
  },
  {
   "cell_type": "code",
   "execution_count": 24,
   "id": "91f577bd-c290-4e71-a30c-8037fe6e5431",
   "metadata": {},
   "outputs": [
    {
     "data": {
      "image/png": "[encoded data removed]",
      "text/plain": [
       "<Figure size 800x600 with 1 Axes>"
      ]
     },
     "metadata": {},
     "output_type": "display_data"
    }
   ],
   "source": [
    "import matplotlib.pyplot as plt\n",
    "\n",
    "# Data\n",
    "categories = ['Real Videos', 'Fake Videos']\n",
    "counts = [len(real_videos), len(fake_videos)]\n",
    "total_videos = sum(counts)\n",
    "\n",
    "# Calculate percentages\n",
    "percentages = [count/total_videos * 100 for count in counts]\n",
    "\n",
    "# Create bar chart\n",
    "plt.figure(figsize=(8, 6))\n",
    "bars = plt.bar(categories, counts, color=['blue', 'red'])\n",
    "\n",
    "# Add labels with percentages on top of bars\n",
    "for bar, percentage in zip(bars, percentages):\n",
    "    height = bar.get_height()\n",
    "    plt.text(bar.get_x() + bar.get_width() / 2, height, f'{percentage:.2f}%', ha='center', va='bottom')\n",
    "\n",
    "# Add title and labels\n",
    "plt.title('Number of Real and Fake Videos')\n",
    "plt.xlabel('Video Category')\n",
    "plt.ylabel('Count')\n",
    "\n",
    "# Show plot\n",
    "plt.show()"
   ]
  },
  {
   "cell_type": "markdown",
   "id": "885332bd",
   "metadata": {},
   "source": [
    "### Extracting frames"
   ]
  },
  {
   "cell_type": "code",
   "execution_count": null,
   "id": "f250d82d",
   "metadata": {},
   "outputs": [],
   "source": [
    "def extract_frames(video_path, output_path, max_frames=None):\n",
    "    \n",
    "    # Open the video file\n",
    "    cap = cv2.VideoCapture(video_path)\n",
    "    \n",
    "    # Get frame count\n",
    "    frame_count = int(cap.get(cv2.CAP_PROP_FRAME_COUNT))\n",
    "    \n",
    "    if max_frames is None:\n",
    "        max_frames = frame_count\n",
    "        \n",
    "    # Extract video name from video path\n",
    "    video_name = os.path.basename(video_path).split('.')[0]  # Extracting the name without extension\n",
    "    \n",
    "    # Loop through each frame\n",
    "    for frame_number in range(max_frames):\n",
    "        # Read the frame\n",
    "        ret, frame = cap.read()\n",
    "        if not ret:\n",
    "            break\n",
    "        \n",
    "        # Save the frame as an image file\n",
    "        frame_filename = f\"{output_path}/frame_{video_name}_{frame_number:04d}.jpg\"  # Adjust the filename format as needed\n",
    "        cv2.imwrite(frame_filename, frame)\n",
    "    \n",
    "    # Release the video capture object\n",
    "    cap.release()\n"
   ]
  },
  {
   "cell_type": "code",
   "execution_count": null,
   "id": "3559df12",
   "metadata": {},
   "outputs": [],
   "source": [
    "# max_frames = 100\n",
    "video_count = 0\n",
    "import tensorflow as tf\n",
    "\n",
    "with tf.device('/GPU:0'):  # Specify GPU device\n",
    "   for video_file in os.listdir(video_dataset):\n",
    "    if video_file.endswith('.mp4'):  # Adjust the extension based on your dataset\n",
    "        video_path = os.path.join(video_dataset, video_file)\n",
    "        if video_file in real_videos:\n",
    "            extract_frames(video_path, real_frames, 60)\n",
    "        else:\n",
    "            extract_frames(video_path, fake_frames, 5)\n",
    "        \n",
    "        video_count += 1\n",
    "        print(\"Processing Video :\", video_count)\n",
    "            \n",
    "    \n",
    "   "
   ]
  },
  {
   "cell_type": "markdown",
   "id": "8838d0cb-83b8-4da6-b57c-168a73df6167",
   "metadata": {},
   "source": [
    "### Face Detection"
   ]
  },
  {
   "cell_type": "code",
   "execution_count": null,
   "id": "2e6443e5-a308-45f1-be94-a7aec42a850b",
   "metadata": {},
   "outputs": [],
   "source": [
    "# def detect_faces(input_path, output_path):\n",
    "\n",
    "#     haar_cascade_filepath = '/Users/kiranm/Downloads/AIT-736/DeepFake Face Recognition/haarcascade_frontalface_default.xml'\n",
    "#     face_cascade = cv2.CascadeClassifier(haar_cascade_filepath)\n",
    "\n",
    "#     frame_counter = 0\n",
    "#     for frame_file in os.listdir(input_path):\n",
    "#         frame_counter += 1\n",
    "#         print(\"Processing frame: \", frame_counter)\n",
    "#         if frame_file.endswith('.jpg'):  # Adjust as needed\n",
    "#             img = cv2.imread(os.path.join(input_path, frame_file))\n",
    "#             gray = cv2.cvtColor(img, cv2.COLOR_BGR2GRAY)\n",
    "#             faces = face_cascade.detectMultiScale(gray, 1.1, 4)\n",
    "\n",
    "#             for (x, y, w, h) in faces:\n",
    "#                 face = img[y:y+h, x:x+w]\n",
    "#                 output_file_path = os.path.join(output_path, frame_file)\n",
    "#                 cv2.imwrite(output_file_path, face)\n",
    "#                 print(\"created\")\n"
   ]
  },
  {
   "cell_type": "code",
   "execution_count": null,
   "id": "66b2b642-ac71-47e0-a3a7-1bd1f1d7782e",
   "metadata": {
    "scrolled": true
   },
   "outputs": [],
   "source": [
    "# detect_faces(real_frames, real_faces)\n",
    "# detect_faces(fake_frames, fake_faces)"
   ]
  },
  {
   "cell_type": "markdown",
   "id": "e986cbdc-cf9f-4318-8642-22ec6cd0767b",
   "metadata": {},
   "source": [
    "### MTCNN Face Detection"
   ]
  },
  {
   "cell_type": "code",
   "execution_count": null,
   "id": "bb11397c-0312-408d-99ed-72dd8ee58743",
   "metadata": {},
   "outputs": [],
   "source": [
    "pip install mtcnn"
   ]
  },
  {
   "cell_type": "code",
   "execution_count": null,
   "id": "1126c403-170e-4978-b6cb-8fa302d31b30",
   "metadata": {},
   "outputs": [],
   "source": [
    "from mtcnn import MTCNN"
   ]
  },
  {
   "cell_type": "code",
   "execution_count": null,
   "id": "a8c52ac3-6e73-4e55-8e56-5f16430d55fb",
   "metadata": {},
   "outputs": [],
   "source": [
    "detector = MTCNN()"
   ]
  },
  {
   "cell_type": "code",
   "execution_count": null,
   "id": "393245b7-c276-4dfa-b992-633f989040b1",
   "metadata": {},
   "outputs": [],
   "source": [
    "def detect_faces(frame_path, save_directory):\n",
    "    # Load the image\n",
    "    image = cv2.imread(frame_path)\n",
    "    image_rgb = cv2.cvtColor(image, cv2.COLOR_BGR2RGB)\n",
    "\n",
    "    # Detect faces in the image\n",
    "    detections = detector.detect_faces(image_rgb)\n",
    "\n",
    "    # Ensure the save_directory exists\n",
    "    os.makedirs(save_directory, exist_ok=True)\n",
    "\n",
    "    # Process detections\n",
    "    for i, detection in enumerate(detections):\n",
    "        x, y, width, height = detection['box']\n",
    "        # Ensure coordinates are positive\n",
    "        x, y = max(0, x), max(0, y)\n",
    "        # Crop the face from the image\n",
    "        face = image[y:y+height, x:x+width]\n",
    "\n",
    "        # Construct a filename for the cropped face\n",
    "        frame_basename = os.path.basename(frame_path)\n",
    "        save_path = os.path.join(save_directory, f\"face_{i}_{frame_basename}\")\n",
    "\n",
    "        # Save the cropped face\n",
    "        cv2.imwrite(save_path, face)\n"
   ]
  },
  {
   "cell_type": "code",
   "execution_count": null,
   "id": "f079dcbf-b5f7-4329-9c23-37a689efec19",
   "metadata": {},
   "outputs": [],
   "source": [
    "import time\n",
    "\n",
    "import tensorflow as tf\n",
    "\n",
    "with tf.device('/GPU:0'):  \n",
    "    def process_directory(directory, save_directory):\n",
    "        frame_count=0\n",
    "        for frame_name in os.listdir(directory):\n",
    "            frame_path = os.path.join(directory, frame_name)\n",
    "            frame_count+=1\n",
    "            print(\"\\rProcessing frame\", frame_count)\n",
    "            detect_faces(frame_path, save_directory)\n",
    "    \n",
    "    start_time = time.time()\n",
    "    # Process 'real' frames\n",
    "    print(\"Processing real frames...\")\n",
    "    process_directory(real_frames, real_faces)\n",
    "    \n",
    "    \n",
    "    # Process 'fake' frames\n",
    "    print(\"Processing fake frames...\")\n",
    "    process_directory(fake_frames, fake_faces)\n",
    "    end_time = time.time()\n",
    "    elapsed_time = end_time - start_time\n",
    "    \n",
    "    print(\"Elapsed time:\", elapsed_time, \"seconds\")\n",
    "\n"
   ]
  },
  {
   "cell_type": "code",
   "execution_count": null,
   "id": "ed42d07c-9b14-465a-84e8-8340a8694b38",
   "metadata": {},
   "outputs": [],
   "source": []
  },
  {
   "cell_type": "code",
   "execution_count": null,
   "id": "f73a1cc3-29a8-4575-8d08-13895274af30",
   "metadata": {},
   "outputs": [],
   "source": []
  }
 ],
 "metadata": {
  "kernelspec": {
   "display_name": "Python 3 (ipykernel)",
   "language": "python",
   "name": "python3"
  },
  "language_info": {
   "codemirror_mode": {
    "name": "ipython",
    "version": 3
   },
   "file_extension": ".py",
   "mimetype": "text/x-python",
   "name": "python",
   "nbconvert_exporter": "python",
   "pygments_lexer": "ipython3",
   "version": "3.9.19"
  }
 },
 "nbformat": 4,
 "nbformat_minor": 5
}
